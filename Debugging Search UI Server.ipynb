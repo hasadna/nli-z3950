{
 "cells": [
  {
   "cell_type": "code",
   "execution_count": 142,
   "metadata": {},
   "outputs": [
    {
     "name": "stdout",
     "output_type": "stream",
     "text": [
      "https://migdar-internal-search.odata.org.il/__search/%40and%20%40attr%201%3DCode-language%20heb%20%40attr%201%3D1017%20%22abracadbra%22/%D7%91%D7%93%D7%99%D7%A7%D7%94%20%D7%90%D7%97%D7%AA%20%D7%A9%D7%AA%D7%99%D7%99%D7%9D%20%D7%A9%D7%9C%D7%95%D7%A9/heb/undefined\n"
     ]
    }
   ],
   "source": [
    "BACKEND_URL = 'https://migdar-internal-search.odata.org.il/__search/%40and%20%40attr%201%3DCode-language%20heb%20%40attr%201%3D1017%20%22abracadbra%22/%D7%91%D7%93%D7%99%D7%A7%D7%94%20%D7%90%D7%97%D7%AA%20%D7%A9%D7%AA%D7%99%D7%99%D7%9D%20%D7%A9%D7%9C%D7%95%D7%A9/heb/undefined'\n",
    "print(BACKEND_URL)"
   ]
  },
  {
   "cell_type": "code",
   "execution_count": 140,
   "metadata": {},
   "outputs": [
    {
     "data": {
      "text/html": [
       "<html>\r\n",
       "<head><title>401 Authorization Required</title></head>\r\n",
       "<body>\r\n",
       "<center><h1>401 Authorization Required</h1></center>\r\n",
       "<hr><center>nginx/1.15.5</center>\r\n",
       "</body>\r\n",
       "</html>\r\n"
      ],
      "text/plain": [
       "<IPython.core.display.HTML object>"
      ]
     },
     "metadata": {},
     "output_type": "display_data"
    }
   ],
   "source": [
    "import requests\n",
    "from IPython.core.display import HTML\n",
    "\n",
    "res = requests.get(BACKEND_URL)\n",
    "display(HTML(res.text))"
   ]
  },
  {
   "cell_type": "code",
   "execution_count": 13,
   "metadata": {},
   "outputs": [],
   "source": [
    "# DELETE THE CREDENTIALS AFTER RUNNING!\n",
    "AUTH = ('', '')\n",
    "\n",
    "session = requests.session()\n",
    "session.auth = AUTH"
   ]
  },
  {
   "cell_type": "code",
   "execution_count": 143,
   "metadata": {},
   "outputs": [
    {
     "data": {
      "text/html": [
       "{\n",
       "  \"csv_records\": 0, \n",
       "  \"first_10_new_records\": [], \n",
       "  \"search_id\": \"40195ef2e2b74b868132a8cf3c3a014a\", \n",
       "  \"total_records\": 0, \n",
       "  \"xlsx_records\": 0\n",
       "}\n"
      ],
      "text/plain": [
       "<IPython.core.display.HTML object>"
      ]
     },
     "metadata": {},
     "output_type": "display_data"
    }
   ],
   "source": [
    "\n",
    "res = session.get(BACKEND_URL)\n",
    "display(HTML(res.text))"
   ]
  },
  {
   "cell_type": "markdown",
   "metadata": {},
   "source": [
    "## Start local backend server"
   ]
  },
  {
   "cell_type": "code",
   "execution_count": 2,
   "metadata": {},
   "outputs": [
    {
     "name": "stdout",
     "output_type": "stream",
     "text": [
      "search-app                       STARTING  \n"
     ]
    }
   ],
   "source": [
    "%%bash\n",
    "supervisord -c supervisord-development.conf\n",
    "supervisorctl -c supervisord-development.conf status"
   ]
  },
  {
   "cell_type": "code",
   "execution_count": 6,
   "metadata": {},
   "outputs": [
    {
     "name": "stdout",
     "output_type": "stream",
     "text": [
      "Restarted supervisord\n"
     ]
    }
   ],
   "source": [
    "%%bash\n",
    "supervisorctl -c supervisord-development.conf reload"
   ]
  },
  {
   "cell_type": "code",
   "execution_count": 8,
   "metadata": {},
   "outputs": [
    {
     "name": "stdout",
     "output_type": "stream",
     "text": [
      "search-app                       RUNNING   pid 25284, uptime 0:00:07\n"
     ]
    }
   ],
   "source": [
    "%%bash\n",
    "supervisorctl -c supervisord-development.conf status"
   ]
  },
  {
   "cell_type": "code",
   "execution_count": 9,
   "metadata": {},
   "outputs": [
    {
     "name": "stdout",
     "output_type": "stream",
     "text": [
      " * Running on http://0.0.0.0:5050/ (Press CTRL+C to quit)\n",
      " * Restarting with stat\n",
      " * Debugger is active!\n",
      " * Debugger PIN: 126-776-375\n",
      "\n"
     ]
    }
   ],
   "source": [
    "%%bash\n",
    "supervisorctl -c supervisord-development.conf tail search-app"
   ]
  },
  {
   "cell_type": "code",
   "execution_count": 14,
   "metadata": {},
   "outputs": [
    {
     "name": "stdout",
     "output_type": "stream",
     "text": [
      "http://localhost:5050/search/%40and%20%40attr%201%3DCode-language%20heb%20%40attr%201%3D1017%20%22%D7%91%D7%93%D7%99%D7%A7%D7%94%20%D7%90%D7%97%D7%AA%20%D7%A9%D7%AA%D7%99%D7%99%D7%9D%20%D7%A9%D7%9C%D7%95%D7%A9%22/%D7%91%D7%93%D7%99%D7%A7%D7%94%20%D7%90%D7%97%D7%AA%20%D7%A9%D7%AA%D7%99%D7%99%D7%9D%20%D7%A9%D7%9C%D7%95%D7%A9/heb/undefined\n"
     ]
    }
   ],
   "source": [
    "LOCAL_BACKEND_URL = BACKEND_URL.replace('https://migdar-internal-search.odata.org.il', 'http://localhost:5050')\n",
    "print(LOCAL_BACKEND_URL)"
   ]
  },
  {
   "cell_type": "code",
   "execution_count": 138,
   "metadata": {},
   "outputs": [
    {
     "name": "stdout",
     "output_type": "stream",
     "text": [
      "http://localhost:5050/__search/%40and%20%40attr%201%3DCode-language%20heb%20%40attr%201%3D1017%20%22abracadabra%22/abracadabra/heb/true\n"
     ]
    },
    {
     "data": {
      "text/html": [
       "{\n",
       "  \"csv_records\": 0, \n",
       "  \"first_10_new_records\": [], \n",
       "  \"search_id\": \"dd322686a5084e1695de2410d13f1c8d\", \n",
       "  \"total_records\": 0, \n",
       "  \"xlsx_records\": 0\n",
       "}\n"
      ],
      "text/plain": [
       "<IPython.core.display.HTML object>"
      ]
     },
     "metadata": {},
     "output_type": "display_data"
    }
   ],
   "source": [
    "from urllib.parse import quote\n",
    "\n",
    "SEARCH_TEXT = 'abracadabra'\n",
    "SEARCH_QUERY = f'@and @attr 1=Code-language heb @attr 1=1017 \"{SEARCH_TEXT}\"'\n",
    "SEARCH_LANG = 'heb'\n",
    "SEARCH_NO_CACHE = 'False'\n",
    "SEARCH_NO_CACHE_ARG = 'true' if SEARCH_NO_CACHE else 'undefined'\n",
    "\n",
    "LOCAL_BACKEND_URL = 'http://localhost:5050/__search/' + quote(f'{SEARCH_QUERY}/{SEARCH_TEXT}/{SEARCH_LANG}/{SEARCH_NO_CACHE_ARG}')\n",
    "print(LOCAL_BACKEND_URL)\n",
    "\n",
    "res = session.get(LOCAL_BACKEND_URL)\n",
    "display(HTML(res.text))"
   ]
  },
  {
   "cell_type": "markdown",
   "metadata": {},
   "source": [
    "## Calling the ULI server directly\n",
    "\n",
    "### Using Docker"
   ]
  },
  {
   "cell_type": "code",
   "execution_count": 35,
   "metadata": {},
   "outputs": [
    {
     "name": "stdout",
     "output_type": "stream",
     "text": [
      "[\n",
      "]\n"
     ]
    },
    {
     "name": "stderr",
     "output_type": "stream",
     "text": [
      "Getting page 1\n",
      "PQF = @and @attr 1=Code-language heb @attr 1=1017 \"abracadabra\"Got 0 records, stopping\n"
     ]
    }
   ],
   "source": [
    "%%bash\n",
    "DB_NAME=\"ULI02\"\n",
    "SEARCH_QUERY='@and @attr 1=Code-language heb @attr 1=1017 \"abracadabra\"'\n",
    "QUERY_TYPE='PQF'\n",
    "docker run -e \"QUERY_TYPE=${QUERY_TYPE}\" --entrypoint python2 uumpa/hasadna-nli-z3950 nli-z3950.py2 \"${DB_NAME}\" \"${SEARCH_QUERY}\"\n"
   ]
  },
  {
   "cell_type": "markdown",
   "metadata": {},
   "source": [
    "### Using Python\n",
    "\n",
    "The z3950 library only supports Python 2 with some specific (old) dependencies\n",
    "\n",
    "Create a conda environment:"
   ]
  },
  {
   "cell_type": "code",
   "execution_count": null,
   "metadata": {},
   "outputs": [],
   "source": [
    "%%bash\n",
    "conda create -y -n nli-z3950-py2 'python<3'"
   ]
  },
  {
   "cell_type": "code",
   "execution_count": 118,
   "metadata": {},
   "outputs": [
    {
     "name": "stdout",
     "output_type": "stream",
     "text": [
      "Obtaining file:///home/ori/nli-z3950/mollyZ3950-2.04-molly1\n",
      "Requirement already satisfied: ply in /home/ori/miniconda3/envs/nli-z3950-py2/lib/python2.7/site-packages (from mollyZ3950===2.04-molly1) (3.11)\n",
      "Installing collected packages: mollyZ3950\n",
      "  Found existing installation: mollyZ3950 2.04-molly1\n",
      "    Uninstalling mollyZ3950-2.04-molly1:\n",
      "      Successfully uninstalled mollyZ3950-2.04-molly1\n",
      "  Running setup.py develop for mollyZ3950\n",
      "Successfully installed mollyZ3950\n",
      "Collecting pymarc\n",
      "  Using cached https://files.pythonhosted.org/packages/2b/71/dd47f6bb599265317249503781302a74a7768474ccab2ac0b1ea3c51e076/pymarc-3.1.10.tar.gz\n",
      "Collecting six>=1.9.0 (from pymarc)\n",
      "  Using cached https://files.pythonhosted.org/packages/67/4b/141a581104b1f6397bfa78ac9d43d8ad29a7ca43ea90a2d863fe3056e86a/six-1.11.0-py2.py3-none-any.whl\n",
      "Building wheels for collected packages: pymarc\n",
      "  Running setup.py bdist_wheel for pymarc: started\n",
      "  Running setup.py bdist_wheel for pymarc: finished with status 'done'\n",
      "  Stored in directory: /home/ori/.cache/pip/wheels/62/fc/4a/81f8b8e62a0931774fe8efb87616bcbfba879d4fe1c6ecc978\n",
      "Successfully built pymarc\n",
      "Installing collected packages: six, pymarc\n",
      "Successfully installed pymarc-3.1.10 six-1.11.0\n"
     ]
    },
    {
     "name": "stderr",
     "output_type": "stream",
     "text": [
      "You are using pip version 10.0.1, however version 18.1 is available.\n",
      "You should consider upgrading via the 'pip install --upgrade pip' command.\n",
      "You are using pip version 10.0.1, however version 18.1 is available.\n",
      "You should consider upgrading via the 'pip install --upgrade pip' command.\n"
     ]
    }
   ],
   "source": [
    "%%bash\n",
    "source $(dirname `which conda`)/activate nli-z3950-py2 &&\\\n",
    "pip install -e mollyZ3950-2.04-molly1 &&\\\n",
    "pip install pymarc"
   ]
  },
  {
   "cell_type": "markdown",
   "metadata": {},
   "source": [
    "Run a query"
   ]
  },
  {
   "cell_type": "code",
   "execution_count": 136,
   "metadata": {},
   "outputs": [
    {
     "name": "stdout",
     "output_type": "stream",
     "text": [
      "[\n",
      "]\n"
     ]
    },
    {
     "name": "stderr",
     "output_type": "stream",
     "text": [
      "Getting page 1\n",
      "PQF = @and @attr 1=Code-language heb @attr 1=1017 \"abracadabra\"Got 0 records, stopping\n"
     ]
    }
   ],
   "source": [
    "%%bash\n",
    "DB_NAME=\"ULI02\"\n",
    "SEARCH_QUERY='@and @attr 1=Code-language heb @attr 1=1017 \"abracadabra\"'\n",
    "QUERY_TYPE='PQF'\n",
    "\n",
    "source $(dirname `which conda`)/activate nli-z3950-py2\n",
    "\n",
    "QUERY_TYPE=${QUERY_TYPE} python2 nli-z3950.py2 \"${DB_NAME}\" \"${SEARCH_QUERY}\"\n"
   ]
  },
  {
   "cell_type": "code",
   "execution_count": null,
   "metadata": {},
   "outputs": [],
   "source": []
  }
 ],
 "metadata": {
  "kernelspec": {
   "display_name": "Python 3",
   "language": "python",
   "name": "python3"
  },
  "language_info": {
   "codemirror_mode": {
    "name": "ipython",
    "version": 3
   },
   "file_extension": ".py",
   "mimetype": "text/x-python",
   "name": "python",
   "nbconvert_exporter": "python",
   "pygments_lexer": "ipython3",
   "version": "3.6.3"
  }
 },
 "nbformat": 4,
 "nbformat_minor": 2
}
